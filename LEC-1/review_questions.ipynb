{
 "cells": [
  {
   "cell_type": "markdown",
   "id": "42935fe0-f066-49c6-9dbd-a5855b4a9d1d",
   "metadata": {},
   "source": [
    "Review Questions-STRING LITERAL"
   ]
  },
  {
   "cell_type": "code",
   "execution_count": 78,
   "id": "b8f6ab56-3a09-473c-afb5-8ac1dff8dbd9",
   "metadata": {
    "scrolled": true
   },
   "outputs": [
    {
     "data": {
      "text/plain": [
       "18"
      ]
     },
     "execution_count": 78,
     "metadata": {},
     "output_type": "execute_result"
    }
   ],
   "source": [
    "word = \"python programming\"\n",
    "len(word)"
   ]
  },
  {
   "cell_type": "code",
   "execution_count": 79,
   "id": "949addb1-b5fd-489f-9651-b126e74243ba",
   "metadata": {
    "scrolled": true
   },
   "outputs": [
    {
     "name": "stdout",
     "output_type": "stream",
     "text": [
      "firstaid\n"
     ]
    }
   ],
   "source": [
    "string1 = \"first\"\n",
    "string2 = \"aid\"\n",
    "word = string1+string2 \n",
    "print(word)"
   ]
  },
  {
   "cell_type": "code",
   "execution_count": 80,
   "id": "fe79b3ad-a0b3-4f72-bad7-abe31943b8da",
   "metadata": {},
   "outputs": [
    {
     "name": "stdout",
     "output_type": "stream",
     "text": [
      "first aid\n"
     ]
    }
   ],
   "source": [
    "string1 = \"first\"\n",
    "string2 = \"aid\"\n",
    "word = string1+ \" \" +string2 \n",
    "print(word)"
   ]
  },
  {
   "cell_type": "code",
   "execution_count": 81,
   "id": "56708125-d01e-4a55-8ab2-203b96ed0dcf",
   "metadata": {},
   "outputs": [
    {
     "name": "stdout",
     "output_type": "stream",
     "text": [
      "The quick brown fox\n"
     ]
    }
   ],
   "source": [
    "text = \"The quick brown fox jumped over the lazy dog. #1234567890!\"\n",
    "result = text[0:19]\n",
    "print(result)"
   ]
  },
  {
   "cell_type": "markdown",
   "id": "18b1f5bd-7645-47f2-82df-1dfd7dfc7ea5",
   "metadata": {},
   "source": []
  },
  {
   "cell_type": "markdown",
   "id": "67df7cd2-cb7e-46ec-a447-36026fc73755",
   "metadata": {},
   "source": [
    "REVIEW QUESTIONS #2"
   ]
  },
  {
   "cell_type": "code",
   "execution_count": 82,
   "id": "fb04c6d1-112f-450b-825f-16f6c4ee106f",
   "metadata": {},
   "outputs": [
    {
     "name": "stdout",
     "output_type": "stream",
     "text": [
      "animals\n",
      "badger\n",
      "honey bee\n",
      "honeybadger\n"
     ]
    }
   ],
   "source": [
    "word1 = \"Animals\"\n",
    "word2 = \"Badger\"\n",
    "word3 = \"Honey Bee\"\n",
    "word4 = \"Honeybadger\"\n",
    "\n",
    "print(word1.lower())\n",
    "print(word2.lower())\n",
    "print(word3.lower())\n",
    "print(word4.lower())"
   ]
  },
  {
   "cell_type": "code",
   "execution_count": 83,
   "id": "16ace800-5c10-4d60-bd5b-9ad362156cb0",
   "metadata": {},
   "outputs": [
    {
     "name": "stdout",
     "output_type": "stream",
     "text": [
      "ANIMALS\n",
      "BADGER\n",
      "HONEY BEE\n",
      "HONEYBADGER\n"
     ]
    }
   ],
   "source": [
    "word1 = \"Animals\"\n",
    "word2 = \"Badger\"\n",
    "word3 = \"Honey Bee\"\n",
    "word4 = \"Honeybadger\"\n",
    "\n",
    "print(word1.upper())\n",
    "print(word2.upper())\n",
    "print(word3.upper())\n",
    "print(word4.upper())"
   ]
  },
  {
   "cell_type": "code",
   "execution_count": 84,
   "id": "daf275ed-713f-435b-8c92-fea0e96282ba",
   "metadata": {},
   "outputs": [
    {
     "name": "stdout",
     "output_type": "stream",
     "text": [
      "Filet Mignon\n",
      "Brisket\n"
     ]
    }
   ],
   "source": [
    "string1 = \" Filet Mignon\"\n",
    "string2 = \"Brisket \"\n",
    "\n",
    "string1 = string1.lstrip()\n",
    "string2 = string2.rstrip()\n",
    "\n",
    "print(string1) \n",
    "print(string2)  \n"
   ]
  },
  {
   "cell_type": "code",
   "execution_count": 85,
   "id": "1beb9889-eb30-4508-bf87-14005345d236",
   "metadata": {},
   "outputs": [
    {
     "name": "stdout",
     "output_type": "stream",
     "text": [
      "False\n",
      "True\n"
     ]
    }
   ],
   "source": [
    "string1 = \"Becomes\"\n",
    "string2 = \"becomes\"\n",
    "\n",
    "print(string1.startswith(\"be\"))\n",
    "print(string2.startswith(\"be\"))"
   ]
  },
  {
   "cell_type": "code",
   "execution_count": 86,
   "id": "9682d3e6-b44f-47d1-8456-c0e54e0164c6",
   "metadata": {},
   "outputs": [
    {
     "name": "stdout",
     "output_type": "stream",
     "text": [
      "True\n",
      "True\n"
     ]
    }
   ],
   "source": [
    "string1 = \"Becomes\"\n",
    "string2 = \"becomes\"\n",
    "\n",
    "string1 = string1.lower()\n",
    "string2 = string2.lower()\n",
    "\n",
    "print(string1.startswith(\"be\"))\n",
    "print(string2.startswith(\"be\"))"
   ]
  },
  {
   "cell_type": "markdown",
   "id": "9121daef-d31d-4720-9957-38fdb55943f7",
   "metadata": {},
   "source": []
  },
  {
   "cell_type": "markdown",
   "id": "74387be5-5bf5-4d5e-9e1d-5da3d3c9e8b7",
   "metadata": {},
   "source": [
    "REVIEW QUESTIONS # 3"
   ]
  },
  {
   "cell_type": "code",
   "execution_count": null,
   "id": "4f965f10-b17e-4d48-ae2d-934512bd3da1",
   "metadata": {},
   "outputs": [],
   "source": [
    "text = input(\"Write something:\")\n",
    "print(text)"
   ]
  },
  {
   "cell_type": "code",
   "execution_count": null,
   "id": "ad046834-a149-45d1-a6bc-654b90c562be",
   "metadata": {},
   "outputs": [],
   "source": [
    "text = input(\"Write something:\")\n",
    "print(text.lower())"
   ]
  },
  {
   "cell_type": "code",
   "execution_count": null,
   "id": "e7739ad8-e9f0-4e47-bb1c-47ec0a729f19",
   "metadata": {},
   "outputs": [],
   "source": [
    "text = input(\"Write something:\")\n",
    "print(\"Number of characters:\", len(text))"
   ]
  },
  {
   "cell_type": "code",
   "execution_count": null,
   "id": "9bd79e78-2700-4fde-8686-b7f25ffbae76",
   "metadata": {},
   "outputs": [],
   "source": []
  },
  {
   "cell_type": "markdown",
   "id": "cd545b6f-82c9-456d-b2b2-58731af9aca5",
   "metadata": {},
   "source": [
    "REVIEW QUESTIONS #5"
   ]
  },
  {
   "cell_type": "code",
   "execution_count": 52,
   "id": "d0de7127-0ede-4e0a-8035-05ed099fd6da",
   "metadata": {},
   "outputs": [
    {
     "data": {
      "text/plain": [
       "500"
      ]
     },
     "execution_count": 52,
     "metadata": {},
     "output_type": "execute_result"
    }
   ],
   "source": [
    "num_str = \"50\"\n",
    "num_int = int(num_str)\n",
    "result = num_int * 10\n",
    "result"
   ]
  },
  {
   "cell_type": "code",
   "execution_count": 53,
   "id": "cc86fa5d-99b3-4d1f-a3be-35d35a46f55d",
   "metadata": {},
   "outputs": [
    {
     "data": {
      "text/plain": [
       "120.0"
      ]
     },
     "execution_count": 53,
     "metadata": {},
     "output_type": "execute_result"
    }
   ],
   "source": [
    "num_str = \"12.0\"\n",
    "num_float = float(num_str)\n",
    "result = num_float * 10\n",
    "result"
   ]
  },
  {
   "cell_type": "code",
   "execution_count": 57,
   "id": "ff627256-a140-4535-a0c1-4c48a31dc848",
   "metadata": {},
   "outputs": [
    {
     "name": "stdout",
     "output_type": "stream",
     "text": [
      "Ben 10\n"
     ]
    }
   ],
   "source": [
    "name = \"Ben\"\n",
    "num = 10\n",
    "\n",
    "print(name+ \" \" +str(num))"
   ]
  },
  {
   "cell_type": "code",
   "execution_count": 61,
   "id": "58c60d5d-2518-44eb-8aef-cf999c59229d",
   "metadata": {},
   "outputs": [
    {
     "name": "stdin",
     "output_type": "stream",
     "text": [
      "Enter first number:  5\n",
      "Enter second number:  2\n"
     ]
    },
    {
     "name": "stdout",
     "output_type": "stream",
     "text": [
      "The result is: 10\n"
     ]
    }
   ],
   "source": [
    "num1 = float(input(\"Enter first number: \"))\n",
    "num2 = float(input(\"Enter second number: \"))\n",
    "\n",
    "result = num1 * num2\n",
    "\n",
    "if result.is_integer():\n",
    "    result = int(result)\n",
    "    \n",
    "print(\"The result is:\", result)"
   ]
  },
  {
   "cell_type": "code",
   "execution_count": null,
   "id": "fcafcf54-c8ac-46c1-90b8-e4d119cef4a6",
   "metadata": {},
   "outputs": [],
   "source": []
  },
  {
   "cell_type": "markdown",
   "id": "ad6dd65c-6f53-417d-86d6-136d1ce1bcdd",
   "metadata": {},
   "source": [
    "REVIEW QUESTIONS #6"
   ]
  },
  {
   "cell_type": "code",
   "execution_count": 62,
   "id": "6315f26c-d01f-4318-b127-131d170e78b6",
   "metadata": {},
   "outputs": [
    {
     "name": "stdout",
     "output_type": "stream",
     "text": [
      "-1\n"
     ]
    }
   ],
   "source": [
    "print(\"AAA\".find(\"a\"))"
   ]
  },
  {
   "cell_type": "code",
   "execution_count": 68,
   "id": "cd3f3179-1055-41f8-b3fc-175ada6750d8",
   "metadata": {},
   "outputs": [
    {
     "name": "stdout",
     "output_type": "stream",
     "text": [
      "yomebody yaid yomething to yamantha.\n"
     ]
    }
   ],
   "source": [
    "sentence = \"Somebody said something to Samantha.\"\n",
    "sentence = sentence.lower()\n",
    "sentence = sentence.replace(\"s\", \"y\")\n",
    "print(sentence)"
   ]
  },
  {
   "cell_type": "code",
   "execution_count": 71,
   "id": "3e19242d-583f-4f8d-9cf6-ed576aee9c38",
   "metadata": {},
   "outputs": [
    {
     "name": "stdin",
     "output_type": "stream",
     "text": [
      "Enter something:  Somebody said something to Samantha\n",
      "Enter a letter to find:  a\n"
     ]
    },
    {
     "name": "stdout",
     "output_type": "stream",
     "text": [
      "Result of .find(): 10\n"
     ]
    }
   ],
   "source": [
    "text = input(\"Enter something: \")\n",
    "\n",
    "letter = input(\"Enter a letter to find: \")\n",
    "\n",
    "position = text.find(letter)\n",
    "\n",
    "print(\"Result of .find():\", position)"
   ]
  }
 ],
 "metadata": {
  "kernelspec": {
   "display_name": "Python [conda env:base] *",
   "language": "python",
   "name": "conda-base-py"
  },
  "language_info": {
   "codemirror_mode": {
    "name": "ipython",
    "version": 3
   },
   "file_extension": ".py",
   "mimetype": "text/x-python",
   "name": "python",
   "nbconvert_exporter": "python",
   "pygments_lexer": "ipython3",
   "version": "3.13.5"
  }
 },
 "nbformat": 4,
 "nbformat_minor": 5
}
